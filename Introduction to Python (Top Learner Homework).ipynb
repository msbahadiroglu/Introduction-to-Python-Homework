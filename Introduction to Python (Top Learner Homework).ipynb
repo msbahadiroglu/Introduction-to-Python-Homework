{
 "cells": [
  {
   "cell_type": "markdown",
   "metadata": {},
   "source": [
    "#  Muhammed Seyfullah BAHADIROGLU\n",
    "# msbahadiroglu@gmail.com\n"
   ]
  },
  {
   "cell_type": "code",
   "execution_count": null,
   "metadata": {},
   "outputs": [],
   "source": []
  },
  {
   "cell_type": "code",
   "execution_count": 18,
   "metadata": {},
   "outputs": [
    {
     "name": "stdout",
     "output_type": "stream",
     "text": [
      "Please give you name and surname: Seyfullah Bahadıroglu\n",
      "Wellcome, Seyfullah Bahadıroglu\n"
     ]
    }
   ],
   "source": [
    "##Kullanıcı adı kontrolü\n",
    "\n",
    "\n",
    "ogrenci_list=[\"Bill Gates\",\"Elon Musk\",\"Mark Zuckerberg\",\"Jeff Bezos\",\"Seyfullah Bahadıroglu\"]\n",
    "ders_list=[]\n",
    "\n",
    "\n",
    "def kullanici():\n",
    "    \n",
    "    kullanici_adi=input(\"Please give you name and surname: \")\n",
    "    count=0\n",
    "    if kullanici_adi in ogrenci_list:\n",
    "    \n",
    "        print(\"Wellcome, {}\".format(kullanici_adi))\n",
    "\n",
    "    else :\n",
    "        while kullanici_adi not in ogrenci_list and count<2:\n",
    "            count+=1\n",
    "            kullanici_adi=input(\"Please give you name and surname: \")\n",
    "        \n",
    "        print(\"Please try again...\")\n",
    "        \n",
    "        \n",
    "            \n",
    "kullanici()"
   ]
  },
  {
   "cell_type": "code",
   "execution_count": 20,
   "metadata": {},
   "outputs": [
    {
     "name": "stdout",
     "output_type": "stream",
     "text": [
      "Please enter how many class you have registered:3\n",
      "Please enter class name you have registered:turkce\n",
      "Please enter class name you have registered:mat\n",
      "Please enter class name you have registered:fen\n",
      "These are your courses : ['turkce', 'mat', 'fen']\n"
     ]
    }
   ],
   "source": [
    "##Kullanıcıdan ders istenmesi\n",
    "\n",
    "def dersler():\n",
    "    \n",
    "    ders_sayisi=int(input(\"Please enter how many class you have registered:\"))\n",
    "    \n",
    "    if ders_sayisi<3:\n",
    "        return(\"You Failed in Class\")\n",
    "    \n",
    "    elif ders_sayisi>5:\n",
    "        return(\"Are you sure about that..!!\")\n",
    "    \n",
    "    else:\n",
    "        for i in range(ders_sayisi):\n",
    "            alinan_ders=input(\"Please enter class name you have registered:\")\n",
    "            ders_list.append(alinan_ders)\n",
    "    print(\"These are your courses : {}\".format(ders_list))\n",
    "\n",
    "dersler()"
   ]
  },
  {
   "cell_type": "code",
   "execution_count": null,
   "metadata": {},
   "outputs": [],
   "source": []
  },
  {
   "cell_type": "code",
   "execution_count": 21,
   "metadata": {},
   "outputs": [
    {
     "name": "stdout",
     "output_type": "stream",
     "text": [
      "Please enter the course that you want to see: trkce\n",
      "Your Midterm score is 60\n",
      "Your Final score is 90\n",
      "Your Project score is 100\n"
     ]
    }
   ],
   "source": [
    "#Dersin sayısal notunun sözlükte tutulması ve görüntülenmesi\n",
    "\n",
    "def ders_notu():\n",
    "    ders_notu.sinav_notu={\"Midterm\":60,\"Final\":90,\"Project\":100}\n",
    "    sinav_dersi=input(\"Please enter the course that you want to see: \")\n",
    "    \n",
    "    for i,j in ders_notu.sinav_notu.items():\n",
    "        print(\"Your \"+ str(i) +\" score is \" + str(j))\n",
    "    \n",
    "ders_notu()   \n"
   ]
  },
  {
   "cell_type": "code",
   "execution_count": 22,
   "metadata": {},
   "outputs": [
    {
     "name": "stdout",
     "output_type": "stream",
     "text": [
      "Your letter grade is BB\n"
     ]
    }
   ],
   "source": [
    "#Dersin harf notunun belirlenmesi\n",
    "\n",
    "def harf_notu():\n",
    "    midterm=ders_notu.sinav_notu[\"Midterm\"]\n",
    "    final=ders_notu.sinav_notu[\"Final\"]\n",
    "    project=ders_notu.sinav_notu[\"Project\"]\n",
    "    \n",
    "    ortalama= (midterm*0.3) + (final*0.5) + (project*0.2)\n",
    "    \n",
    "    if ortalama <30:\n",
    "        print(\"Sorry {}, you have failed..\".format(kullanici_adi))\n",
    "    elif ortalama>=30 and ortalama <50:\n",
    "        print(\"Your letter grade is DD\")\n",
    "    elif ortalama>=50 and ortalama <70:\n",
    "        print(\"Your letter grade is CC\")\n",
    "    elif ortalama>=70 and ortalama <90:\n",
    "        print(\"Your letter grade is BB\")\n",
    "    else:\n",
    "        print(\"Congratulations...Your letter grade is AA\")\n",
    "\n",
    "harf_notu()"
   ]
  },
  {
   "cell_type": "code",
   "execution_count": null,
   "metadata": {},
   "outputs": [],
   "source": []
  },
  {
   "cell_type": "code",
   "execution_count": null,
   "metadata": {},
   "outputs": [],
   "source": []
  }
 ],
 "metadata": {
  "kernelspec": {
   "display_name": "Python 3",
   "language": "python",
   "name": "python3"
  },
  "language_info": {
   "codemirror_mode": {
    "name": "ipython",
    "version": 3
   },
   "file_extension": ".py",
   "mimetype": "text/x-python",
   "name": "python",
   "nbconvert_exporter": "python",
   "pygments_lexer": "ipython3",
   "version": "3.9.0"
  }
 },
 "nbformat": 4,
 "nbformat_minor": 4
}
